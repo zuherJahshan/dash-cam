{
 "cells": [
  {
   "attachments": {},
   "cell_type": "markdown",
   "metadata": {},
   "source": [
    "# dash-cam Simulator\n",
    "\n",
    "This python notebook serves the purpose of extracting the results of the dash-cam simulator "
   ]
  },
  {
   "cell_type": "code",
   "execution_count": 1,
   "metadata": {},
   "outputs": [],
   "source": [
    "import glob\n",
    "import numpy as np\n",
    "import os\n",
    "import random\n",
    "from simulator import *\n",
    "from reads import Reads"
   ]
  },
  {
   "attachments": {},
   "cell_type": "markdown",
   "metadata": {},
   "source": [
    "#### Define the data directory"
   ]
  },
  {
   "cell_type": "code",
   "execution_count": 2,
   "metadata": {},
   "outputs": [],
   "source": [
    "datadir = \"data/\"\n",
    "kmer_size = 32\n",
    "os.makedirs(\"data/\", exist_ok=True)"
   ]
  },
  {
   "attachments": {},
   "cell_type": "markdown",
   "metadata": {},
   "source": [
    "#### Define the parallel simulator of dash-cam, and add references"
   ]
  },
  {
   "cell_type": "code",
   "execution_count": 3,
   "metadata": {},
   "outputs": [],
   "source": [
    "parallel_search = ParallelSearch()\n",
    "for genome_filepath in glob.glob(datadir + \"/*.fna\"):\n",
    "    parallel_search.buildBlock(\n",
    "        block_name=genome_filepath.split(\"/\")[-1].split(\".\")[0],\n",
    "        genome_file=genome_filepath\n",
    "    )"
   ]
  },
  {
   "attachments": {},
   "cell_type": "markdown",
   "metadata": {},
   "source": [
    "#### Define read getter and list all available sequencer platforms"
   ]
  },
  {
   "cell_type": "code",
   "execution_count": 4,
   "metadata": {},
   "outputs": [],
   "source": [
    "reads = Reads(datadir=\"data/\", read_length=kmer_size)\n",
    "platforms = reads.getPlatforms()"
   ]
  },
  {
   "attachments": {},
   "cell_type": "markdown",
   "metadata": {},
   "source": [
    "#### Generate results for the different platforms as a function of the dash-cam Hamming Distance toleration threshold\n",
    "\n",
    "Note: The cell run might take a while."
   ]
  },
  {
   "cell_type": "code",
   "execution_count": 5,
   "metadata": {},
   "outputs": [],
   "source": [
    "for platform in platforms:\n",
    "    parallel_search.recordResults(f\"results/{platform}-threshold-varies.csv\")\n",
    "    for threshold in range(1):\n",
    "        for genome_file in glob.glob(datadir + \"/*.fna\"):\n",
    "            parallel_search.search(\n",
    "                patterns=reads.getKmers(\n",
    "                    platform=platform,\n",
    "                    genome_filepath=genome_file,\n",
    "                    kmer_size=kmer_size\n",
    "                ),\n",
    "                threshold=threshold,\n",
    "                true_genome=genome_file.split(\"/\")[-1].split(\".\")[0]\n",
    "            )\n",
    "    parallel_search.stopRecording()"
   ]
  },
  {
   "attachments": {},
   "cell_type": "markdown",
   "metadata": {},
   "source": [
    "#### Generate results for the accuracy as a function of the progressing time"
   ]
  },
  {
   "cell_type": "code",
   "execution_count": null,
   "metadata": {},
   "outputs": [],
   "source": [
    "#### Generate time results\n",
    "parallel_search.recordResults(f\"results/time.csv\")\n",
    "for time in np.linspace(0, 150, 50):\n",
    "    for genome_file in glob.glob(datadir + \"/*.fna\"):\n",
    "        parallel_search.search(\n",
    "            patterns=reads.getReads(\n",
    "                platform=platform,\n",
    "                genome_filepath=datadir + genome_file\n",
    "            ),\n",
    "            time=time,\n",
    "            true_genome=genome_file.split(\"/\")[-1].split(\".\")[0]\n",
    "        )\n",
    "parallel_search.stopRecording()"
   ]
  },
  {
   "attachments": {},
   "cell_type": "markdown",
   "metadata": {},
   "source": [
    "#### Generate results for the accuracy as a function of the varrying discharge rate"
   ]
  },
  {
   "cell_type": "code",
   "execution_count": null,
   "metadata": {},
   "outputs": [],
   "source": [
    "parallel_search.recordResults(f\"results/discharge-rate.csv\")\n",
    "for discharge_rate in np.linspace(0, 1, 50):\n",
    "    for genome_file in glob.glob(datadir + \"/*.fna\"):\n",
    "        parallel_search.search(\n",
    "            patterns=reads.getReads(\n",
    "                platform=platform,\n",
    "                genome_filepath=datadir + genome_file\n",
    "            ),\n",
    "            discharge_rate=discharge_rate,\n",
    "            true_genome=genome_file.split(\"/\")[-1].split(\".\")[0]\n",
    "        )\n",
    "parallel_search.stopRecording()"
   ]
  },
  {
   "cell_type": "code",
   "execution_count": 11,
   "metadata": {},
   "outputs": [],
   "source": [
    "reads = Reads(\"kraken2-data\", read_length=150)"
   ]
  },
  {
   "cell_type": "code",
   "execution_count": 27,
   "metadata": {},
   "outputs": [
    {
     "name": "stderr",
     "output_type": "stream",
     "text": [
      "Loading database information... done.\n",
      "1990 sequences (0.30 Mbp) processed in 0.012s (9569.6 Kseq/m, 1435.44 Mbp/m).\n",
      "  1990 sequences classified (100.00%)\n",
      "  0 sequences unclassified (0.00%)\n",
      "Loading database information... done.\n",
      "1050 sequences (0.16 Mbp) processed in 0.006s (10994.8 Kseq/m, 1649.21 Mbp/m).\n",
      "  1050 sequences classified (100.00%)\n",
      "  0 sequences unclassified (0.00%)\n",
      "Loading database information... done.\n",
      "700 sequences (0.10 Mbp) processed in 0.004s (9593.4 Kseq/m, 1439.01 Mbp/m).\n",
      "  699 sequences classified (99.86%)\n",
      "  1 sequences unclassified (0.14%)\n",
      "Loading database information... done.\n",
      "850 sequences (0.13 Mbp) processed in 0.005s (10357.4 Kseq/m, 1553.61 Mbp/m).\n",
      "  850 sequences classified (100.00%)\n",
      "  0 sequences unclassified (0.00%)\n",
      "Loading database information... done.\n",
      "1200 sequences (0.18 Mbp) processed in 0.009s (8269.2 Kseq/m, 1240.38 Mbp/m).\n",
      "  1200 sequences classified (100.00%)\n",
      "  0 sequences unclassified (0.00%)\n",
      "Loading database information... done.\n",
      "1994 sequences (0.30 Mbp) processed in 0.014s (8841.3 Kseq/m, 1325.97 Mbp/m).\n",
      "  1261 sequences classified (63.24%)\n",
      "  733 sequences unclassified (36.76%)\n",
      "Loading database information... done.\n",
      "1060 sequences (0.16 Mbp) processed in 0.007s (9097.4 Kseq/m, 1364.18 Mbp/m).\n",
      "  662 sequences classified (62.45%)\n",
      "  398 sequences unclassified (37.55%)\n",
      "Loading database information... done.\n",
      "486 sequences (0.07 Mbp) processed in 0.003s (8922.9 Kseq/m, 1337.52 Mbp/m).\n",
      "  304 sequences classified (62.55%)\n",
      "  182 sequences unclassified (37.45%)\n",
      "Loading database information... done.\n",
      "227 sequences (0.03 Mbp) processed in 0.002s (8496.6 Kseq/m, 1273.36 Mbp/m).\n",
      "  145 sequences classified (63.88%)\n",
      "  82 sequences unclassified (36.12%)\n",
      "Loading database information... done.\n",
      "157 sequences (0.02 Mbp) processed in 0.001s (8494.1 Kseq/m, 1271.42 Mbp/m).\n",
      "  100 sequences classified (63.69%)\n",
      "  57 sequences unclassified (36.31%)\n",
      "Loading database information... done.\n",
      "118 sequences (0.02 Mbp) processed in 0.001s (8339.2 Kseq/m, 1247.35 Mbp/m).\n",
      "  77 sequences classified (65.25%)\n",
      "  41 sequences unclassified (34.75%)\n",
      "Loading database information... done.\n",
      "149 sequences (0.02 Mbp) processed in 0.001s (8149.5 Kseq/m, 1221.33 Mbp/m).\n",
      "  87 sequences classified (58.39%)\n",
      "  62 sequences unclassified (41.61%)\n",
      "Loading database information... done.\n",
      "98 sequences (0.01 Mbp) processed in 0.001s (8212.3 Kseq/m, 1229.33 Mbp/m).\n",
      "  65 sequences classified (66.33%)\n",
      "  33 sequences unclassified (33.67%)\n",
      "Loading database information... done.\n",
      "105 sequences (0.02 Mbp) processed in 0.001s (7118.6 Kseq/m, 1064.41 Mbp/m).\n",
      "  70 sequences classified (66.67%)\n",
      "  35 sequences unclassified (33.33%)\n",
      "Loading database information... done.\n",
      "69 sequences (0.01 Mbp) processed in 0.001s (7885.7 Kseq/m, 1177.14 Mbp/m).\n",
      "  41 sequences classified (59.42%)\n",
      "  28 sequences unclassified (40.58%)\n",
      "Loading database information... done.\n",
      "60 sequences (0.01 Mbp) processed in 0.000s (7809.1 Kseq/m, 1164.86 Mbp/m).\n",
      "  39 sequences classified (65.00%)\n",
      "  21 sequences unclassified (35.00%)\n",
      "Loading database information... done.\n",
      "157 sequences (0.02 Mbp) processed in 0.001s (8494.1 Kseq/m, 1271.42 Mbp/m).\n",
      "  103 sequences classified (65.61%)\n",
      "  54 sequences unclassified (34.39%)\n",
      "Loading database information... done.\n",
      "71 sequences (0.01 Mbp) processed in 0.001s (5546.9 Kseq/m, 829.69 Mbp/m).\n",
      "  46 sequences classified (64.79%)\n",
      "  25 sequences unclassified (35.21%)\n",
      "Loading database information... done.\n",
      "173 sequences (0.03 Mbp) processed in 0.001s (7671.8 Kseq/m, 1149.00 Mbp/m).\n",
      "  115 sequences classified (66.47%)\n",
      "  58 sequences unclassified (33.53%)\n",
      "Loading database information... done.\n",
      "108 sequences (0.02 Mbp) processed in 0.001s (7807.2 Kseq/m, 1167.47 Mbp/m).\n",
      "  73 sequences classified (67.59%)\n",
      "  35 sequences unclassified (32.41%)\n",
      "Loading database information... done.\n",
      "158 sequences (0.02 Mbp) processed in 0.001s (8257.8 Kseq/m, 1236.06 Mbp/m).\n",
      "  100 sequences classified (63.29%)\n",
      "  58 sequences unclassified (36.71%)\n",
      "Loading database information... done.\n",
      "91 sequences (0.01 Mbp) processed in 0.001s (7766.7 Kseq/m, 1160.74 Mbp/m).\n",
      "  67 sequences classified (73.63%)\n",
      "  24 sequences unclassified (26.37%)\n",
      "Loading database information... done.\n",
      "45 sequences (0.01 Mbp) processed in 0.000s (6870.2 Kseq/m, 1022.90 Mbp/m).\n",
      "  27 sequences classified (60.00%)\n",
      "  18 sequences unclassified (40.00%)\n",
      "Loading database information... done.\n",
      "180 sequences (0.03 Mbp) processed in 0.001s (8244.3 Kseq/m, 1234.35 Mbp/m).\n",
      "  112 sequences classified (62.22%)\n",
      "  68 sequences unclassified (37.78%)\n",
      "Loading database information... done.\n",
      "221 sequences (0.03 Mbp) processed in 0.002s (8462.0 Kseq/m, 1267.39 Mbp/m).\n",
      "  135 sequences classified (61.09%)\n",
      "  86 sequences unclassified (38.91%)\n",
      "Loading database information... done.\n",
      "74 sequences (0.01 Mbp) processed in 0.001s (7563.9 Kseq/m, 1129.47 Mbp/m).\n",
      "  49 sequences classified (66.22%)\n",
      "  25 sequences unclassified (33.78%)\n",
      "Loading database information... done.\n",
      "51 sequences (0.01 Mbp) processed in 0.001s (5160.2 Kseq/m, 768.97 Mbp/m).\n",
      "  31 sequences classified (60.78%)\n",
      "  20 sequences unclassified (39.22%)\n",
      "Loading database information... done.\n",
      "71 sequences (0.01 Mbp) processed in 0.001s (7319.6 Kseq/m, 1092.78 Mbp/m).\n",
      "  49 sequences classified (69.01%)\n",
      "  22 sequences unclassified (30.99%)\n",
      "Loading database information... done.\n",
      "3220 sequences (0.15 Mbp) processed in 0.005s (35944.2 Kseq/m, 1675.98 Mbp/m).\n",
      "  2079 sequences classified (64.57%)\n",
      "  1141 sequences unclassified (35.43%)\n",
      "Loading database information... done.\n",
      "3220 sequences (0.15 Mbp) processed in 0.005s (36044.8 Kseq/m, 1672.99 Mbp/m).\n",
      "  2057 sequences classified (63.88%)\n",
      "  1163 sequences unclassified (36.12%)\n",
      "Loading database information... done.\n",
      "1705 sequences (0.08 Mbp) processed in 0.003s (35215.1 Kseq/m, 1661.95 Mbp/m).\n",
      "  1087 sequences classified (63.75%)\n",
      "  618 sequences unclassified (36.25%)\n",
      "Loading database information... done.\n",
      "1705 sequences (0.08 Mbp) processed in 0.002s (43091.8 Kseq/m, 1993.27 Mbp/m).\n",
      "  1063 sequences classified (62.35%)\n",
      "  642 sequences unclassified (37.65%)\n",
      "Loading database information... done.\n",
      "1153 sequences (0.05 Mbp) processed in 0.002s (31632.4 Kseq/m, 1452.73 Mbp/m).\n",
      "  723 sequences classified (62.71%)\n",
      "  430 sequences unclassified (37.29%)\n",
      "Loading database information... done.\n",
      "1153 sequences (0.05 Mbp) processed in 0.002s (33762.8 Kseq/m, 1604.57 Mbp/m).\n",
      "  744 sequences classified (64.53%)\n",
      "  409 sequences unclassified (35.47%)\n",
      "Loading database information... done.\n",
      "1505 sequences (0.07 Mbp) processed in 0.003s (28218.7 Kseq/m, 1305.56 Mbp/m).\n",
      "  949 sequences classified (63.06%)\n",
      "  556 sequences unclassified (36.94%)\n",
      "Loading database information... done.\n",
      "1505 sequences (0.07 Mbp) processed in 0.002s (40294.5 Kseq/m, 1894.35 Mbp/m).\n",
      "  1003 sequences classified (66.64%)\n",
      "  502 sequences unclassified (33.36%)\n",
      "Loading database information... done.\n",
      "2026 sequences (0.09 Mbp) processed in 0.003s (36157.0 Kseq/m, 1676.16 Mbp/m).\n",
      "  1270 sequences classified (62.69%)\n",
      "  756 sequences unclassified (37.31%)\n",
      "Loading database information... done.\n",
      "2026 sequences (0.10 Mbp) processed in 0.009s (13788.6 Kseq/m, 654.93 Mbp/m).\n",
      "  1344 sequences classified (66.34%)\n",
      "  682 sequences unclassified (33.66%)\n"
     ]
    }
   ],
   "source": [
    "kraken2_db = \"kraken2-data/dash-cam-db/\"\n",
    "kraken_output = \"kraken-out.txt\"\n",
    "\n",
    "results = {}\n",
    "for platform in reads.getPlatforms():\n",
    "    for genome_filepath in glob.glob(\"data/*.fna\"):\n",
    "        genome_name = genome_filepath.split(\"/\")[-1].split(\".\")[0]\n",
    "        results[(platform, genome_name)] = {\n",
    "            \"tp\": 0,\n",
    "            \"fn\": 0,\n",
    "            \"fp\": 0\n",
    "        }\n",
    "        for read_file in reads.getReadFiles(platform, genome_filepath=genome_filepath):\n",
    "            os.system(f\"kraken2/bin/kraken2 --db {kraken2_db} {read_file} --use-names --output {kraken_output}\")\n",
    "            with open(kraken_output, \"r\") as f:\n",
    "                lines = f.read().split(\"\\n\")\n",
    "                for line in lines:\n",
    "                    if len(line) > 0:\n",
    "                        results[(platform, genome_name)][\"tp\"] += line[0] == \"C\"\n",
    "                        results[(platform, genome_name)][\"fn\"] += line[0] == \"U\"\n",
    "os.system(f\"rm -rf {kraken_output}\")\n"
   ]
  },
  {
   "cell_type": "code",
   "execution_count": 28,
   "metadata": {},
   "outputs": [],
   "source": [
    "with open(\"results/kraken2.csv\", \"w\") as f:\n",
    "    writer = csv.writer(f)\n",
    "    writer.writerow([\"platform\", \"organism\", \"tp\", \"fn\", \"fp\"])\n",
    "    for platform, organism in results:\n",
    "        writer.writerow([\n",
    "            platform,\n",
    "            organism,\n",
    "            results[(platform, organism)][\"tp\"],\n",
    "            results[(platform, organism)][\"fn\"],\n",
    "            results[(platform, organism)][\"fp\"]])"
   ]
  },
  {
   "cell_type": "code",
   "execution_count": null,
   "metadata": {},
   "outputs": [],
   "source": []
  }
 ],
 "metadata": {
  "kernelspec": {
   "display_name": "dash-cam",
   "language": "python",
   "name": "python3"
  },
  "language_info": {
   "codemirror_mode": {
    "name": "ipython",
    "version": 3
   },
   "file_extension": ".py",
   "mimetype": "text/x-python",
   "name": "python",
   "nbconvert_exporter": "python",
   "pygments_lexer": "ipython3",
   "version": "3.11.3"
  },
  "orig_nbformat": 4
 },
 "nbformat": 4,
 "nbformat_minor": 2
}
