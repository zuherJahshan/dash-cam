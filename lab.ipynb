{
 "cells": [
  {
   "attachments": {},
   "cell_type": "markdown",
   "metadata": {},
   "source": [
    "# dash-cam Simulator\n",
    "\n",
    "This python notebook serves the purpose of extracting the results of the dash-cam simulator "
   ]
  },
  {
   "cell_type": "code",
   "execution_count": null,
   "metadata": {},
   "outputs": [],
   "source": [
    "import glob\n",
    "import numpy as np\n",
    "import os\n",
    "import random\n",
    "from simulator import *\n",
    "from reads import Reads"
   ]
  },
  {
   "attachments": {},
   "cell_type": "markdown",
   "metadata": {},
   "source": [
    "#### Define the data directory"
   ]
  },
  {
   "cell_type": "code",
   "execution_count": null,
   "metadata": {},
   "outputs": [],
   "source": [
    "datadir = \"data/\"\n",
    "kmer_size = 32\n",
    "os.makedirs(\"data/\", exist_ok=True)"
   ]
  },
  {
   "attachments": {},
   "cell_type": "markdown",
   "metadata": {},
   "source": [
    "#### Define the parallel simulator of dash-cam, and add references"
   ]
  },
  {
   "cell_type": "code",
   "execution_count": null,
   "metadata": {},
   "outputs": [],
   "source": [
    "parallel_search = ParallelSearch()\n",
    "for genome_filepath in glob.glob(datadir + \"/*.fna\"):\n",
    "    parallel_search.buildBlock(\n",
    "        block_name=genome_filepath.split(\"/\")[-1].split(\".\")[0],\n",
    "        genome_file=genome_filepath\n",
    "    )"
   ]
  },
  {
   "attachments": {},
   "cell_type": "markdown",
   "metadata": {},
   "source": [
    "#### Define read getter and list all available sequencer platforms"
   ]
  },
  {
   "cell_type": "code",
   "execution_count": null,
   "metadata": {},
   "outputs": [],
   "source": [
    "reads = Reads(datadir=\"data/\", kmer_size=kmer_size)\n",
    "platforms = reads.getPlatforms()"
   ]
  },
  {
   "attachments": {},
   "cell_type": "markdown",
   "metadata": {},
   "source": [
    "#### Generate results for the different platforms as a function of the dash-cam Hamming Distance toleration threshold\n",
    "\n",
    "Note: The cell run might take a while."
   ]
  },
  {
   "cell_type": "code",
   "execution_count": null,
   "metadata": {},
   "outputs": [],
   "source": [
    "for platform in platforms:\n",
    "    parallel_search.recordResults(f\"results/{platform}-threshold-varies.csv\")\n",
    "    for threshold in range(17):\n",
    "        for genome_file in glob.glob(datadir + \"/*.fna\"):\n",
    "            parallel_search.search(\n",
    "                patterns=reads.getReads(\n",
    "                    platform=platform,\n",
    "                    genome_filepath=datadir + genome_file\n",
    "                ),\n",
    "                threshold=threshold,\n",
    "                true_genome=genome_file.split(\"/\")[-1].split(\".\")[0]\n",
    "            )\n",
    "    parallel_search.stopRecording()"
   ]
  },
  {
   "attachments": {},
   "cell_type": "markdown",
   "metadata": {},
   "source": [
    "#### Generate results for the accuracy as a function of the progressing time"
   ]
  },
  {
   "cell_type": "code",
   "execution_count": null,
   "metadata": {},
   "outputs": [],
   "source": [
    "#### Generate time results\n",
    "parallel_search.recordResults(f\"results/time.csv\")\n",
    "for time in np.linspace(0, 150, 50):\n",
    "    for genome_file in glob.glob(datadir + \"/*.fna\"):\n",
    "        parallel_search.search(\n",
    "            patterns=reads.getReads(\n",
    "                platform=platform,\n",
    "                genome_filepath=datadir + genome_file\n",
    "            ),\n",
    "            time=time,\n",
    "            true_genome=genome_file.split(\"/\")[-1].split(\".\")[0]\n",
    "        )\n",
    "parallel_search.stopRecording()"
   ]
  },
  {
   "attachments": {},
   "cell_type": "markdown",
   "metadata": {},
   "source": [
    "#### Generate results for the accuracy as a function of the varrying discharge rate"
   ]
  },
  {
   "cell_type": "code",
   "execution_count": null,
   "metadata": {},
   "outputs": [],
   "source": [
    "parallel_search.recordResults(f\"results/discharge-rate.csv\")\n",
    "for discharge_rate in np.linspace(0, 1, 50):\n",
    "    for genome_file in glob.glob(datadir + \"/*.fna\"):\n",
    "        parallel_search.search(\n",
    "            patterns=reads.getReads(\n",
    "                platform=platform,\n",
    "                genome_filepath=datadir + genome_file\n",
    "            ),\n",
    "            discharge_rate=discharge_rate,\n",
    "            true_genome=genome_file.split(\"/\")[-1].split(\".\")[0]\n",
    "        )\n",
    "parallel_search.stopRecording()"
   ]
  }
 ],
 "metadata": {
  "kernelspec": {
   "display_name": "dash-cam",
   "language": "python",
   "name": "python3"
  },
  "language_info": {
   "codemirror_mode": {
    "name": "ipython",
    "version": 3
   },
   "file_extension": ".py",
   "mimetype": "text/x-python",
   "name": "python",
   "nbconvert_exporter": "python",
   "pygments_lexer": "ipython3",
   "version": "3.11.3"
  },
  "orig_nbformat": 4
 },
 "nbformat": 4,
 "nbformat_minor": 2
}
